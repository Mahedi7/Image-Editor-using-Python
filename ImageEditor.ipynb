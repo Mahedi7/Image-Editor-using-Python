{
 "cells": [
  {
   "cell_type": "code",
   "execution_count": 1,
   "id": "promising-popularity",
   "metadata": {},
   "outputs": [],
   "source": [
    "from PIL import Image, ImageEnhance, ImageFilter, ImageShow\n",
    "import os"
   ]
  },
  {
   "cell_type": "code",
   "execution_count": 2,
   "id": "theoretical-supervisor",
   "metadata": {},
   "outputs": [],
   "source": [
    "path = 'E:\\\\Python Exercise\\\\Image Editor using Python\\\\imgs' #unedited images\n",
    "pathOut = 'E:\\Python Exercise\\Image Editor using Python\\editedImgs' #edited images"
   ]
  },
  {
   "cell_type": "code",
   "execution_count": 3,
   "id": "final-interval",
   "metadata": {},
   "outputs": [],
   "source": [
    "for filename in os.listdir(path):\n",
    "    img = Image.open(f\"{path}/{filename}\")\n",
    "\n",
    "    # sharpening\n",
    "    edit = img.filter(ImageFilter.SHARPEN).convert('L').rotate(-90)\n",
    "\n",
    "    # contrast\n",
    "    factor = 1.5\n",
    "    enhancer = ImageEnhance.Contrast(edit)\n",
    "    edit = enhancer.enhance(factor)\n",
    "\n",
    "    clean_name = os.path.splitext(filename)[0]\n",
    "\n",
    "    edit.save(f'{pathOut}/{clean_name}_edited.jpg')\n",
    "    \n",
    "    ImageShow.show(edit)"
   ]
  }
 ],
 "metadata": {
  "kernelspec": {
   "display_name": "Python 3",
   "language": "python",
   "name": "python3"
  },
  "language_info": {
   "codemirror_mode": {
    "name": "ipython",
    "version": 3
   },
   "file_extension": ".py",
   "mimetype": "text/x-python",
   "name": "python",
   "nbconvert_exporter": "python",
   "pygments_lexer": "ipython3",
   "version": "3.9.1"
  }
 },
 "nbformat": 4,
 "nbformat_minor": 5
}
